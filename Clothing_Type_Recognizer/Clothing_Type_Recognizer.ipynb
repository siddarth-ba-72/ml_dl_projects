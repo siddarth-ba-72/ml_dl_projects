{
 "cells": [
  {
   "cell_type": "markdown",
   "metadata": {},
   "source": [
    "# We will create a TensorFlow Neural Network Model to recognize clothing items."
   ]
  },
  {
   "cell_type": "markdown",
   "metadata": {},
   "source": [
    "## Dataset used is -> Fachion MNIST dataset\n",
    "\n",
    "| Label | Description |\n",
    "|-------|-------------|\n",
    "| 0     | T-shirt/top |\n",
    "| 1     | Trouser     |\n",
    "| 2     | Pullover    |\n",
    "| 3     | Dress       |\n",
    "| 4     | Coat        |\n",
    "| 5     | Sandal      |\n",
    "| 6     | Shirt       |\n",
    "| 7     | Sneaker     |\n",
    "| 8     | Bag         |\n",
    "| 9     | Ankle boot  |"
   ]
  },
  {
   "cell_type": "markdown",
   "metadata": {},
   "source": [
    "### Import the libraries"
   ]
  },
  {
   "cell_type": "code",
   "execution_count": 1,
   "metadata": {},
   "outputs": [],
   "source": [
    "import tensorflow as tf\n",
    "from tensorflow import keras\n",
    "import numpy as np"
   ]
  },
  {
   "cell_type": "markdown",
   "metadata": {},
   "source": [
    "### Load the data"
   ]
  },
  {
   "cell_type": "code",
   "execution_count": 2,
   "metadata": {},
   "outputs": [],
   "source": [
    "(x_train, y_train), (x_test, y_test) = keras.datasets.fashion_mnist.load_data()"
   ]
  },
  {
   "cell_type": "markdown",
   "metadata": {},
   "source": [
    "### Data Preprocessing"
   ]
  },
  {
   "cell_type": "code",
   "execution_count": 3,
   "metadata": {},
   "outputs": [],
   "source": [
    "def preprocess(x, y):\n",
    "\tx = tf.cast(x, tf.float32) / 255.0\n",
    "\ty = tf.cast(y, tf.int64)\n",
    "\treturn x, y\n",
    "\n",
    "\n",
    "def create_dataset(xs, ys, n_classes=10):\n",
    "\tys = tf.one_hot(ys, depth=n_classes)\n",
    "\treturn tf.data.Dataset.from_tensor_slices((xs, ys))\\\n",
    "\t\t.map(preprocess)\\\n",
    "\t\t.shuffle(len(ys))\\\n",
    "\t\t.batch(128)"
   ]
  },
  {
   "cell_type": "markdown",
   "metadata": {},
   "source": [
    "### Building a Neural Network Model"
   ]
  },
  {
   "cell_type": "code",
   "execution_count": 4,
   "metadata": {},
   "outputs": [],
   "source": [
    "train_df = create_dataset(x_train, y_train)\n",
    "test_df = create_dataset(x_test, y_test)"
   ]
  },
  {
   "cell_type": "code",
   "execution_count": 5,
   "metadata": {},
   "outputs": [],
   "source": [
    "model = keras.Sequential([\n",
    "\tkeras.layers.Reshape(target_shape=(28 * 28,), input_shape=(28, 28)),\n",
    "\tkeras.layers.Dense(units=192, activation='relu'),\n",
    "\tkeras.layers.Dense(units=128, activation='relu'),\n",
    "\tkeras.layers.Dense(units=10, activation='softmax'),\n",
    "])"
   ]
  },
  {
   "cell_type": "markdown",
   "metadata": {},
   "source": [
    "### Model Training"
   ]
  },
  {
   "cell_type": "code",
   "execution_count": 6,
   "metadata": {},
   "outputs": [
    {
     "name": "stdout",
     "output_type": "stream",
     "text": [
      "Epoch 1/10\n",
      "469/469 [==============================] - 5s 11ms/step - loss: 1.7473 - accuracy: 0.7211 - val_loss: 1.6770 - val_accuracy: 0.7879\n",
      "Epoch 2/10\n",
      "469/469 [==============================] - 4s 9ms/step - loss: 1.6276 - accuracy: 0.8359 - val_loss: 1.6385 - val_accuracy: 0.8246\n",
      "Epoch 3/10\n",
      "469/469 [==============================] - 4s 8ms/step - loss: 1.6107 - accuracy: 0.8518 - val_loss: 1.6114 - val_accuracy: 0.8523\n",
      "Epoch 4/10\n",
      "469/469 [==============================] - 4s 9ms/step - loss: 1.6025 - accuracy: 0.8600 - val_loss: 1.6123 - val_accuracy: 0.8492\n",
      "Epoch 5/10\n",
      "469/469 [==============================] - 4s 8ms/step - loss: 1.5955 - accuracy: 0.8661 - val_loss: 1.6028 - val_accuracy: 0.8578\n",
      "Epoch 6/10\n",
      "469/469 [==============================] - 5s 10ms/step - loss: 1.5911 - accuracy: 0.8705 - val_loss: 1.6083 - val_accuracy: 0.8516\n",
      "Epoch 7/10\n",
      "469/469 [==============================] - 4s 9ms/step - loss: 1.5860 - accuracy: 0.8760 - val_loss: 1.5997 - val_accuracy: 0.8609\n",
      "Epoch 8/10\n",
      "469/469 [==============================] - 4s 9ms/step - loss: 1.5817 - accuracy: 0.8800 - val_loss: 1.6050 - val_accuracy: 0.8578\n",
      "Epoch 9/10\n",
      "469/469 [==============================] - 5s 10ms/step - loss: 1.5804 - accuracy: 0.8806 - val_loss: 1.6083 - val_accuracy: 0.8559\n",
      "Epoch 10/10\n",
      "469/469 [==============================] - 5s 10ms/step - loss: 1.5762 - accuracy: 0.8856 - val_loss: 1.5934 - val_accuracy: 0.8676\n"
     ]
    },
    {
     "data": {
      "text/plain": [
       "<tensorflow.python.keras.callbacks.History at 0x2c095386be0>"
      ]
     },
     "execution_count": 6,
     "metadata": {},
     "output_type": "execute_result"
    }
   ],
   "source": [
    "model.compile(\n",
    "\toptimizer=keras.optimizers.Adam(lr=0.001),\n",
    "\tloss=keras.losses.CategoricalCrossentropy(from_logits=True),\n",
    "\tmetrics=['accuracy'],\n",
    ")\n",
    "\n",
    "model.fit(\n",
    "\ttrain_df,\n",
    "\tepochs=10,\n",
    "\tsteps_per_epoch=len(train_df),\n",
    "\tvalidation_data=test_df,\n",
    "\tvalidation_steps=20,\n",
    ")"
   ]
  },
  {
   "cell_type": "markdown",
   "metadata": {},
   "source": [
    "### Making Predictions"
   ]
  },
  {
   "cell_type": "code",
   "execution_count": 11,
   "metadata": {},
   "outputs": [
    {
     "data": {
      "text/plain": [
       "5"
      ]
     },
     "execution_count": 11,
     "metadata": {},
     "output_type": "execute_result"
    }
   ],
   "source": [
    "predictions = model.predict(test_df)\n",
    "np.argmax(predictions[0])"
   ]
  }
 ],
 "metadata": {
  "interpreter": {
   "hash": "27bb8f03a42ce625ceef82bcc63d1e6ee0df9fb583c6ffd86de5857b20ecd1f3"
  },
  "kernelspec": {
   "display_name": "Python 3.10.3 ('py3-TF2')",
   "language": "python",
   "name": "python3"
  },
  "language_info": {
   "codemirror_mode": {
    "name": "ipython",
    "version": 3
   },
   "file_extension": ".py",
   "mimetype": "text/x-python",
   "name": "python",
   "nbconvert_exporter": "python",
   "pygments_lexer": "ipython3",
   "version": "3.8.13"
  },
  "orig_nbformat": 4
 },
 "nbformat": 4,
 "nbformat_minor": 2
}
